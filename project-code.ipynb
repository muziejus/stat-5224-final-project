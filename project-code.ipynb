{
 "cells": [
  {
   "cell_type": "code",
   "execution_count": 1,
   "id": "ed978624-7d7e-4b35-b14a-3c7e868c862e",
   "metadata": {},
   "outputs": [],
   "source": [
    "import polars as pl\n",
    "import numpy as np\n",
    "import pymc as pm\n",
    "import arviz as az\n",
    "import matplotlib.pyplot as plt\n",
    "import pytensor.tensor as pt\n"
   ]
  },
  {
   "cell_type": "markdown",
   "id": "c47a7160-e34f-47b4-af64-c870963e1f7f",
   "metadata": {},
   "source": [
    "## Preprocess Keyword Data"
   ]
  },
  {
   "cell_type": "code",
   "execution_count": 2,
   "id": "f5224eb1-e285-4948-b758-488cef618ead",
   "metadata": {},
   "outputs": [],
   "source": [
    "# Read in total keyword counts for joining.\n",
    "\n",
    "totals = pl.read_parquet(\"total_token_counts_by_quarter.parquet\")"
   ]
  },
  {
   "cell_type": "code",
   "execution_count": 3,
   "id": "90d945b7-d6bc-4e69-9a83-7b2013853672",
   "metadata": {},
   "outputs": [],
   "source": [
    "# Read in “raw“ data\n",
    "\n",
    "df = pl.read_parquet(\"keyword_counts_by_quarter_chamber.parquet\")"
   ]
  },
  {
   "cell_type": "code",
   "execution_count": 4,
   "id": "b5ff7f7a-7064-4be3-8eca-0dbbbbf78c48",
   "metadata": {},
   "outputs": [],
   "source": [
    "# Add `yq` column for joining with total tokens plot.\n",
    "\n",
    "df = df.with_columns(\n",
    "    pl.format(\"{}Q{}\", pl.col(\"year\"), pl.col(\"quarter\")).alias(\"yq\")\n",
    ")"
   ]
  },
  {
   "cell_type": "code",
   "execution_count": 5,
   "id": "3c24d7a7-c462-4f39-b261-eee7239d0e81",
   "metadata": {},
   "outputs": [],
   "source": [
    "# Join data and drop columns and non House/Senate counts.\n",
    "# Then re-key House and Senate column.\n",
    "\n",
    "df = df.join(totals, on=\"yq\", how=\"left\").drop(\n",
    "    pl.col(\"^(single|unique).*$\")\n",
    ").with_columns(\n",
    "    #(1000 * pl.col(\"count\") / pl.col(\"total_tokens\")).alias(\"count_per_k\"),\n",
    "    (pl.col(\"year\") + (pl.col(\"quarter\") - 1) / 4).alias(\"time\")\n",
    ").drop(\"year\", \"quarter\", \"yq\", \"color\").filter(\n",
    "    pl.col(\"chamber\").is_in([\"H\", \"S\"])\n",
    ").with_columns(\n",
    "    pl.when(\n",
    "        pl.col(\"chamber\") == \"H\"\n",
    "    ).then(\n",
    "        pl.lit(\"House\")\n",
    "    ).otherwise(\n",
    "        pl.lit(\"Senate\")\n",
    "    ).alias(\"chamber\").cast(pl.Categorical)\n",
    ")"
   ]
  },
  {
   "cell_type": "code",
   "execution_count": 6,
   "id": "6571cbc4-42f4-4126-9983-c6d7d65f9c73",
   "metadata": {},
   "outputs": [
    {
     "data": {
      "text/html": [
       "<div><style>\n",
       ".dataframe > thead > tr,\n",
       ".dataframe > tbody > tr {\n",
       "  text-align: right;\n",
       "  white-space: pre-wrap;\n",
       "}\n",
       "</style>\n",
       "<small>shape: (5, 5)</small><table border=\"1\" class=\"dataframe\"><thead><tr><th>chamber</th><th>keyword</th><th>count</th><th>total_tokens</th><th>time</th></tr><tr><td>cat</td><td>str</td><td>u32</td><td>i64</td><td>f64</td></tr></thead><tbody><tr><td>&quot;Senate&quot;</td><td>&quot;proflag&quot;</td><td>0</td><td>1993757</td><td>1981.0</td></tr><tr><td>&quot;Senate&quot;</td><td>&quot;compet&quot;</td><td>221</td><td>1993757</td><td>1981.0</td></tr><tr><td>&quot;Senate&quot;</td><td>&quot;opportun&quot;</td><td>711</td><td>1993757</td><td>1981.0</td></tr><tr><td>&quot;Senate&quot;</td><td>&quot;famili&quot;</td><td>793</td><td>1993757</td><td>1981.0</td></tr><tr><td>&quot;Senate&quot;</td><td>&quot;protect&quot;</td><td>725</td><td>1993757</td><td>1981.0</td></tr></tbody></table></div>"
      ],
      "text/plain": [
       "shape: (5, 5)\n",
       "┌─────────┬──────────┬───────┬──────────────┬────────┐\n",
       "│ chamber ┆ keyword  ┆ count ┆ total_tokens ┆ time   │\n",
       "│ ---     ┆ ---      ┆ ---   ┆ ---          ┆ ---    │\n",
       "│ cat     ┆ str      ┆ u32   ┆ i64          ┆ f64    │\n",
       "╞═════════╪══════════╪═══════╪══════════════╪════════╡\n",
       "│ Senate  ┆ proflag  ┆ 0     ┆ 1993757      ┆ 1981.0 │\n",
       "│ Senate  ┆ compet   ┆ 221   ┆ 1993757      ┆ 1981.0 │\n",
       "│ Senate  ┆ opportun ┆ 711   ┆ 1993757      ┆ 1981.0 │\n",
       "│ Senate  ┆ famili   ┆ 793   ┆ 1993757      ┆ 1981.0 │\n",
       "│ Senate  ┆ protect  ┆ 725   ┆ 1993757      ┆ 1981.0 │\n",
       "└─────────┴──────────┴───────┴──────────────┴────────┘"
      ]
     },
     "execution_count": 6,
     "metadata": {},
     "output_type": "execute_result"
    }
   ],
   "source": [
    "df.head()"
   ]
  },
  {
   "cell_type": "code",
   "execution_count": 7,
   "id": "c393c501-54dd-45e3-bf8f-9494205ae2bf",
   "metadata": {},
   "outputs": [],
   "source": [
    "# Write.\n",
    "\n",
    "df.write_parquet(\"preprocessed_data.parquet\")\n"
   ]
  },
  {
   "cell_type": "markdown",
   "id": "30ee6747-2144-4a6d-b848-fb438612133e",
   "metadata": {},
   "source": [
    "## EDA"
   ]
  },
  {
   "cell_type": "code",
   "execution_count": 8,
   "id": "a42337ff-973a-436f-a19a-85675e64901f",
   "metadata": {},
   "outputs": [
    {
     "data": {
      "text/html": [
       "<div><style>\n",
       ".dataframe > thead > tr,\n",
       ".dataframe > tbody > tr {\n",
       "  text-align: right;\n",
       "  white-space: pre-wrap;\n",
       "}\n",
       "</style>\n",
       "<small>shape: (1, 2)</small><table border=\"1\" class=\"dataframe\"><thead><tr><th>mean_of_means</th><th>SD of keyword means</th></tr><tr><td>f64</td><td>f64</td></tr></thead><tbody><tr><td>364.225239</td><td>599.96371</td></tr></tbody></table></div>"
      ],
      "text/plain": [
       "shape: (1, 2)\n",
       "┌───────────────┬─────────────────────┐\n",
       "│ mean_of_means ┆ SD of keyword means │\n",
       "│ ---           ┆ ---                 │\n",
       "│ f64           ┆ f64                 │\n",
       "╞═══════════════╪═════════════════════╡\n",
       "│ 364.225239    ┆ 599.96371           │\n",
       "└───────────────┴─────────────────────┘"
      ]
     },
     "execution_count": 8,
     "metadata": {},
     "output_type": "execute_result"
    }
   ],
   "source": [
    "# Mean and SD of means of keyword usage\n",
    "\n",
    "df.group_by(\"keyword\").agg(\n",
    "    pl.mean(\"count\").alias(\"mean_per_keyword\")\n",
    ").select(\n",
    "    pl.col(\"mean_per_keyword\").mean().alias(\"mean_of_means\"),\n",
    "    pl.col(\"mean_per_keyword\").std().alias(\"SD of keyword means\")\n",
    ")\n",
    "    "
   ]
  },
  {
   "cell_type": "code",
   "execution_count": 9,
   "id": "4a1dba79-b684-4786-9bfe-01fc5b302a97",
   "metadata": {},
   "outputs": [
    {
     "data": {
      "text/html": [
       "<div><style>\n",
       ".dataframe > thead > tr,\n",
       ".dataframe > tbody > tr {\n",
       "  text-align: right;\n",
       "  white-space: pre-wrap;\n",
       "}\n",
       "</style>\n",
       "<small>shape: (10, 2)</small><table border=\"1\" class=\"dataframe\"><thead><tr><th>keyword</th><th>count</th></tr><tr><td>str</td><td>f64</td></tr></thead><tbody><tr><td>&quot;hypocrici&quot;</td><td>0.0</td></tr><tr><td>&quot;we&quot;</td><td>0.0</td></tr><tr><td>&quot;they&quot;</td><td>0.013889</td></tr><tr><td>&quot;proflag&quot;</td><td>0.027778</td></tr><tr><td>&quot;antiflag&quot;</td><td>0.069444</td></tr><tr><td>&quot;sensationalist&quot;</td><td>0.173611</td></tr><tr><td>&quot;prochildren&quot;</td><td>0.256944</td></tr><tr><td>&quot;antichild&quot;</td><td>0.527778</td></tr><tr><td>&quot;antijob&quot;</td><td>0.722222</td></tr><tr><td>&quot;proenviron&quot;</td><td>0.819444</td></tr></tbody></table></div>"
      ],
      "text/plain": [
       "shape: (10, 2)\n",
       "┌────────────────┬──────────┐\n",
       "│ keyword        ┆ count    │\n",
       "│ ---            ┆ ---      │\n",
       "│ str            ┆ f64      │\n",
       "╞════════════════╪══════════╡\n",
       "│ hypocrici      ┆ 0.0      │\n",
       "│ we             ┆ 0.0      │\n",
       "│ they           ┆ 0.013889 │\n",
       "│ proflag        ┆ 0.027778 │\n",
       "│ antiflag       ┆ 0.069444 │\n",
       "│ sensationalist ┆ 0.173611 │\n",
       "│ prochildren    ┆ 0.256944 │\n",
       "│ antichild      ┆ 0.527778 │\n",
       "│ antijob        ┆ 0.722222 │\n",
       "│ proenviron     ┆ 0.819444 │\n",
       "└────────────────┴──────────┘"
      ]
     },
     "execution_count": 9,
     "metadata": {},
     "output_type": "execute_result"
    }
   ],
   "source": [
    "# Keywords with means < 1\n",
    "\n",
    "df.group_by(\"keyword\").agg(pl.mean(\"count\")).filter(pl.col(\"count\") < 1).sort(\"count\")"
   ]
  },
  {
   "cell_type": "code",
   "execution_count": 10,
   "id": "ce58c968-04c0-434d-a113-952396eed2a8",
   "metadata": {},
   "outputs": [],
   "source": [
    "# Filter out \"hypocrici,\" \"we,\" and \"they\"\n",
    "\n",
    "df = df.filter(~pl.col(\"keyword\").is_in([\"hypocrici\", \"we\", \"they\"]))"
   ]
  },
  {
   "cell_type": "code",
   "execution_count": 11,
   "id": "e120533b-ff7a-4782-a536-0d0534264bbe",
   "metadata": {},
   "outputs": [
    {
     "data": {
      "text/html": [
       "<div><style>\n",
       ".dataframe > thead > tr,\n",
       ".dataframe > tbody > tr {\n",
       "  text-align: right;\n",
       "  white-space: pre-wrap;\n",
       "}\n",
       "</style>\n",
       "<small>shape: (10, 3)</small><table border=\"1\" class=\"dataframe\"><thead><tr><th>keyword</th><th>chamber</th><th>zero_pct</th></tr><tr><td>str</td><td>cat</td><td>f64</td></tr></thead><tbody><tr><td>&quot;proflag&quot;</td><td>&quot;House&quot;</td><td>0.986111</td></tr><tr><td>&quot;proflag&quot;</td><td>&quot;Senate&quot;</td><td>0.986111</td></tr><tr><td>&quot;antiflag&quot;</td><td>&quot;Senate&quot;</td><td>0.958333</td></tr><tr><td>&quot;sensationalist&quot;</td><td>&quot;House&quot;</td><td>0.944444</td></tr><tr><td>&quot;antiflag&quot;</td><td>&quot;House&quot;</td><td>0.930556</td></tr><tr><td>&quot;prochildren&quot;</td><td>&quot;House&quot;</td><td>0.847222</td></tr><tr><td>&quot;antichild&quot;</td><td>&quot;Senate&quot;</td><td>0.805556</td></tr><tr><td>&quot;prochildren&quot;</td><td>&quot;Senate&quot;</td><td>0.805556</td></tr><tr><td>&quot;sensationalist&quot;</td><td>&quot;Senate&quot;</td><td>0.763889</td></tr><tr><td>&quot;antijob&quot;</td><td>&quot;Senate&quot;</td><td>0.75</td></tr></tbody></table></div>"
      ],
      "text/plain": [
       "shape: (10, 3)\n",
       "┌────────────────┬─────────┬──────────┐\n",
       "│ keyword        ┆ chamber ┆ zero_pct │\n",
       "│ ---            ┆ ---     ┆ ---      │\n",
       "│ str            ┆ cat     ┆ f64      │\n",
       "╞════════════════╪═════════╪══════════╡\n",
       "│ proflag        ┆ House   ┆ 0.986111 │\n",
       "│ proflag        ┆ Senate  ┆ 0.986111 │\n",
       "│ antiflag       ┆ Senate  ┆ 0.958333 │\n",
       "│ sensationalist ┆ House   ┆ 0.944444 │\n",
       "│ antiflag       ┆ House   ┆ 0.930556 │\n",
       "│ prochildren    ┆ House   ┆ 0.847222 │\n",
       "│ antichild      ┆ Senate  ┆ 0.805556 │\n",
       "│ prochildren    ┆ Senate  ┆ 0.805556 │\n",
       "│ sensationalist ┆ Senate  ┆ 0.763889 │\n",
       "│ antijob        ┆ Senate  ┆ 0.75     │\n",
       "└────────────────┴─────────┴──────────┘"
      ]
     },
     "execution_count": 11,
     "metadata": {},
     "output_type": "execute_result"
    }
   ],
   "source": [
    "df.group_by([\"keyword\", \"chamber\"]).agg(\n",
    "    pl.col(\"count\").eq(0).mean().alias(\"zero_pct\")\n",
    ").sort(\"zero_pct\", descending=True).head(10)"
   ]
  },
  {
   "cell_type": "code",
   "execution_count": 12,
   "id": "0439eca4-3183-4159-8c9a-9cdcd77caff7",
   "metadata": {},
   "outputs": [
    {
     "data": {
      "text/html": [
       "<div><style>\n",
       ".dataframe > thead > tr,\n",
       ".dataframe > tbody > tr {\n",
       "  text-align: right;\n",
       "  white-space: pre-wrap;\n",
       "}\n",
       "</style>\n",
       "<small>shape: (1, 2)</small><table border=\"1\" class=\"dataframe\"><thead><tr><th>mean_of_means</th><th>SD of keyword means</th></tr><tr><td>f64</td><td>f64</td></tr></thead><tbody><tr><td>373.407271</td><td>604.6902</td></tr></tbody></table></div>"
      ],
      "text/plain": [
       "shape: (1, 2)\n",
       "┌───────────────┬─────────────────────┐\n",
       "│ mean_of_means ┆ SD of keyword means │\n",
       "│ ---           ┆ ---                 │\n",
       "│ f64           ┆ f64                 │\n",
       "╞═══════════════╪═════════════════════╡\n",
       "│ 373.407271    ┆ 604.6902            │\n",
       "└───────────────┴─────────────────────┘"
      ]
     },
     "execution_count": 12,
     "metadata": {},
     "output_type": "execute_result"
    }
   ],
   "source": [
    "# New mean and sd of token counts\n",
    "\n",
    "df.group_by(\"keyword\").agg(\n",
    "    pl.mean(\"count\").alias(\"mean_per_keyword\")\n",
    ").select(\n",
    "    pl.col(\"mean_per_keyword\").mean().alias(\"mean_of_means\"),\n",
    "    pl.col(\"mean_per_keyword\").std().alias(\"SD of keyword means\")\n",
    ")"
   ]
  },
  {
   "cell_type": "code",
   "execution_count": 13,
   "id": "19eb8aa4-c96c-4e4d-a431-459b7809aa62",
   "metadata": {},
   "outputs": [
    {
     "data": {
      "text/plain": [
       "0.06681839402427638"
      ]
     },
     "execution_count": 13,
     "metadata": {},
     "output_type": "execute_result"
    }
   ],
   "source": [
    "# Percentage of 0s\n",
    "\n",
    "len(df.filter(pl.col(\"count\") == 0)) / len(df)"
   ]
  },
  {
   "cell_type": "code",
   "execution_count": 14,
   "id": "ccc70859-8ac7-47b3-97d1-793e55722b27",
   "metadata": {},
   "outputs": [
    {
     "data": {
      "image/png": "[encoded data removed]",
      "text/plain": [
       "<Figure size 1400x500 with 2 Axes>"
      ]
     },
     "metadata": {},
     "output_type": "display_data"
    }
   ],
   "source": [
    "import seaborn as sns\n",
    "import matplotlib.pyplot as plt\n",
    "\n",
    "counts = df[\"count\"].to_numpy()\n",
    "\n",
    "quarterly_totals = df.group_by(\"time\").agg(\n",
    "    pl.col(\"total_tokens\").first()\n",
    ")[\"total_tokens\"].to_numpy()\n",
    "\n",
    "fig, (ax1, ax2) = plt.subplots(1, 2, figsize=(14, 5))\n",
    "sns.histplot(\n",
    "    x=counts,\n",
    "    bins=500,\n",
    "    ax=ax1,\n",
    "    kde=True,\n",
    "    color='skyblue'\n",
    ")\n",
    "\n",
    "ax1.set_title('Distribution of Keyword Counts per Quarter (Truncated)')\n",
    "ax1.set_xlabel('Count')\n",
    "ax1.set_ylabel('Frequency')\n",
    "\n",
    "\n",
    "ax1.set_xlim(0, 1000)\n",
    "\n",
    "sns.histplot(\n",
    "    x=quarterly_totals,\n",
    "    bins=50,\n",
    "    ax=ax2,\n",
    "    kde=True,\n",
    "    color='salmon'\n",
    ")\n",
    "ax2.set_title('Distribution of Total Tokens per Quarter')\n",
    "ax2.set_xlabel('Total Tokens')\n",
    "ax2.set_ylabel('Frequency')\n",
    "\n",
    "plt.suptitle(\"Exploratory Analysis of Quarterly Token Counts in Congress, 1981–1998\",\n",
    "    fontsize=14,\n",
    "    fontweight='bold',\n",
    "    y=1.02)\n",
    "plt.tight_layout()\n",
    "plt.show()\n",
    "\n"
   ]
  },
  {
   "cell_type": "code",
   "execution_count": 15,
   "id": "b525e2b9-3040-4c4c-9bb1-ce47f5a28385",
   "metadata": {},
   "outputs": [
    {
     "name": "stdout",
     "output_type": "stream",
     "text": [
      "3.22E+06\n",
      "9.37E+05\n"
     ]
    }
   ],
   "source": [
    "print('%.2E' % np.mean(quarterly_totals))\n",
    "print('%.2E' %np.std(quarterly_totals))"
   ]
  },
  {
   "cell_type": "code",
   "execution_count": 16,
   "id": "30f741c5-929d-40d5-8f08-31d4679d1114",
   "metadata": {},
   "outputs": [],
   "source": [
    "# Write.\n",
    "\n",
    "df.write_parquet(\"processed_data.parquet\")"
   ]
  },
  {
   "cell_type": "markdown",
   "id": "99eb883f-d860-4fb0-aa5e-e293bf32ea61",
   "metadata": {},
   "source": [
    "## Prepare Data for Model"
   ]
  },
  {
   "cell_type": "code",
   "execution_count": 17,
   "id": "308bed8b-1db5-432d-b1a8-a47e15ad4366",
   "metadata": {},
   "outputs": [],
   "source": [
    "# Reload data.\n",
    "df = pl.read_parquet(\"processed_data.parquet\")"
   ]
  },
  {
   "cell_type": "code",
   "execution_count": 18,
   "id": "feaaf976-378d-43de-afbb-d59def6ffe0d",
   "metadata": {},
   "outputs": [],
   "source": [
    "# Sort.\n",
    "\n",
    "df = df.sort([\"time\", \"chamber\", \"keyword\"])\n",
    "\n",
    "# Convert keywords to a Polars categorical.\n",
    "\n",
    "df = df.with_columns(\n",
    "    pl.col(\"keyword\").cast(pl.Categorical)\n",
    ")"
   ]
  },
  {
   "cell_type": "code",
   "execution_count": 19,
   "id": "6d348310-9561-49eb-953c-d0822bd2ff01",
   "metadata": {},
   "outputs": [],
   "source": [
    "# Change chamber to indicator, where House = 1 and Senate = 0\n",
    "\n",
    "chamber = df.select(\n",
    "    pl.when(\n",
    "        pl.col(\"chamber\") == \"House\"\n",
    "    ).then(\n",
    "        pl.lit(1)\n",
    "    ).otherwise(\n",
    "        pl.lit(0)\n",
    "    )\n",
    ").to_numpy().flatten()"
   ]
  },
  {
   "cell_type": "code",
   "execution_count": 20,
   "id": "5a34e41f-2c76-4ac2-9b6e-80b70bb535ca",
   "metadata": {},
   "outputs": [],
   "source": [
    "# Indexify Keywords\n",
    "\n",
    "keyword_alpha = df.select(pl.col(\"keyword\").unique()).sort(\"keyword\").to_numpy().flatten()\n",
    "keyword_idx = {k: i for i, k in enumerate(keyword_alpha)}"
   ]
  },
  {
   "cell_type": "code",
   "execution_count": 21,
   "id": "63b98125-71c6-41a4-8b49-25634a392e3e",
   "metadata": {},
   "outputs": [],
   "source": [
    "# Extract and recenter time\n",
    "\n",
    "time = df[\"time\"].to_numpy()"
   ]
  },
  {
   "cell_type": "code",
   "execution_count": 22,
   "id": "eba46cd7-06f3-464d-b04e-473f0319e836",
   "metadata": {},
   "outputs": [],
   "source": [
    "# Counts and Total Tokens\n",
    "\n",
    "keyword_counts = df[\"count\"].to_numpy()\n",
    "total_tokens = df[\"total_tokens\"].to_numpy()\n",
    "keywords = df.select(\n",
    "    pl.col(\"keyword\").to_physical()\n",
    ").to_numpy().flatten()\n",
    "keywords_coords = df[\"keyword\"].to_numpy()\n",
    "n_keywords = len(keyword_alpha)"
   ]
  },
  {
   "cell_type": "markdown",
   "id": "2be19c71-26e1-45a0-9c7d-143c7f32ded2",
   "metadata": {},
   "source": [
    "## Fit NB"
   ]
  },
  {
   "cell_type": "code",
   "execution_count": 23,
   "id": "58e0ad6f-fe7a-402b-8647-4a3a9e072c5c",
   "metadata": {},
   "outputs": [
    {
     "name": "stderr",
     "output_type": "stream",
     "text": [
      "Initializing NUTS using adapt_diag...\n",
      "Multiprocess sampling (4 chains in 4 jobs)\n",
      "NUTS: [alpha, s, tau, delta_j, alpha_k, beta_pre_j, beta_post_j, gamma_k, sigma_t]\n"
     ]
    },
    {
     "data": {
      "application/vnd.jupyter.widget-view+json": {
       "model_id": "4079b1131bdd49409a7bdf759d4787b6",
       "version_major": 2,
       "version_minor": 0
      },
      "text/plain": [
       "Output()"
      ]
     },
     "metadata": {},
     "output_type": "display_data"
    },
    {
     "data": {
      "text/html": [
       "<pre style=\"white-space:pre;overflow-x:auto;line-height:normal;font-family:Menlo,'DejaVu Sans Mono',consolas,'Courier New',monospace\"></pre>\n"
      ],
      "text/plain": []
     },
     "metadata": {},
     "output_type": "display_data"
    },
    {
     "name": "stderr",
     "output_type": "stream",
     "text": [
      "Sampling 4 chains for 1_000 tune and 1_000 draw iterations (4_000 + 4_000 draws total) took 91 seconds.\n",
      "Sampling: [y_obs]\n"
     ]
    },
    {
     "data": {
      "application/vnd.jupyter.widget-view+json": {
       "model_id": "5d17b988a3f84ede8e78cc2adf23fdd9",
       "version_major": 2,
       "version_minor": 0
      },
      "text/plain": [
       "Output()"
      ]
     },
     "metadata": {},
     "output_type": "display_data"
    },
    {
     "data": {
      "text/html": [
       "<pre style=\"white-space:pre;overflow-x:auto;line-height:normal;font-family:Menlo,'DejaVu Sans Mono',consolas,'Courier New',monospace\"></pre>\n"
      ],
      "text/plain": []
     },
     "metadata": {},
     "output_type": "display_data"
    }
   ],
   "source": [
    "with pm.Model(coords={\n",
    "    \"time\": time,\n",
    "    \"keyword\": keyword_alpha,\n",
    "    \"chamber\": [\"Senate\", \"House\"]\n",
    "}) as nb_model:\n",
    "    ### Data\n",
    "    keyword_data = pm.Data(\"keyword_data\", keywords, dims=\"obs\")\n",
    "    counts_data = pm.Data(\"counts_data\", keyword_counts, dims=\"obs\")\n",
    "    chamber_data = pm.Data(\"chamber_data\", chamber, dims=\"obs\")\n",
    "    T_t = pm.Data(\"T_t\", (time - 1990.75)/10, dims=\"time\")  # Centered/scaled\n",
    "    C_t = pm.Data(\"C_t\", total_tokens/10_000, dims=\"obs\")  # Pre-scale\n",
    "\n",
    "    ### Priors \n",
    "    alpha = pm.Gamma(\"alpha\", alpha=1, beta=0.1)\n",
    "    \n",
    "    # Transition parameters\n",
    "    s = pm.Gamma(\"s\", alpha=3, beta=1)\n",
    "    tau = pm.Normal(\"tau\", mu=0, sigma=1)\n",
    "\n",
    "    # Chamber effect (House vs Senate)\n",
    "    delta_j = pm.Normal(\"delta_j\", mu=0.2, sigma=0.1)\n",
    "    \n",
    "    # Each keyword gets its own intercept\n",
    "    alpha_k = pm.Normal(\"alpha_k\", mu=0, sigma=0.1, dims=\"keyword\")\n",
    "\n",
    "    # Shared pre/post slopes hierarchized by chamber\n",
    "    beta_pre_j = pm.Normal(\"beta_pre_j\", mu=0, sigma=0.05, dims=\"chamber\")\n",
    "    beta_post_j = pm.Normal(\"beta_post_j\", mu=0.1, sigma=0.1, dims=\"chamber\")\n",
    "\n",
    "    # Keyword-specific post treatment slope\n",
    "    gamma_k = pm.Normal(\"gamma_k\", mu=0, sigma=0.05, dims=\"keyword\")\n",
    "        \n",
    "    # Error term\n",
    "    sigma_t = pm.Exponential(\"sigma_t\", 1)\n",
    "      \n",
    "    ### Transition Function\n",
    "    def logistic_transition(T, s, tau):\n",
    "        return 1 / (1 + pt.exp(-s * (T - tau)))\n",
    "    \n",
    "    G = logistic_transition(T_t, s, tau)\n",
    "\n",
    "    mu = (\n",
    "        pt.log(C_t)  # Offset\n",
    "        + delta_j * chamber_data\n",
    "        + alpha_k[keyword_data]\n",
    "        + beta_pre_j[chamber_data] * T_t\n",
    "        + (gamma_k[keyword_data] + beta_post_j[chamber_data]) * T_t * G\n",
    "    )\n",
    "    \n",
    "    ### Likelihood\n",
    "    pm.NegativeBinomial(\n",
    "        \"y_obs\",\n",
    "        mu=pt.exp(mu),\n",
    "        alpha=alpha,\n",
    "        observed=counts_data,\n",
    "        dims=\"obs\",\n",
    "    )\n",
    "    \n",
    "    ### Sampling\n",
    "    nb_trace = pm.sample(1000, tune=1000, \n",
    "        target_accept=0.95,\n",
    "        nuts={\"max_treedepth\": 15},\n",
    "        init=\"adapt_diag\",\n",
    "        seed=42,\n",
    "        idata_kwargs={\"log_likelihood\": True}\n",
    "        )\n",
    "    nb_ppc = pm.sample_posterior_predictive(nb_trace)\n",
    "\n",
    "    nb_trace.extend(nb_ppc)\n",
    "    nb_trace.to_netcdf(\"nb_trace.nc\")\n",
    "\n",
    " "
   ]
  },
  {
   "cell_type": "markdown",
   "id": "d38c1ec8-8da7-4d3e-aeb7-40d28ed60549",
   "metadata": {},
   "source": [
    "## Fit ZINB"
   ]
  },
  {
   "cell_type": "code",
   "execution_count": 24,
   "id": "d18f9dc1-f883-4e69-a2bd-df665ac60b4e",
   "metadata": {},
   "outputs": [
    {
     "name": "stderr",
     "output_type": "stream",
     "text": [
      "Initializing NUTS using adapt_diag...\n",
      "Multiprocess sampling (4 chains in 4 jobs)\n",
      "NUTS: [alpha, s, tau, delta_j, alpha_k, beta_pre_j, beta_post_j, gamma_k, sigma_t, psi]\n"
     ]
    },
    {
     "data": {
      "application/vnd.jupyter.widget-view+json": {
       "model_id": "1d62ea88170f46d4853c1489507559c5",
       "version_major": 2,
       "version_minor": 0
      },
      "text/plain": [
       "Output()"
      ]
     },
     "metadata": {},
     "output_type": "display_data"
    },
    {
     "data": {
      "text/html": [
       "<pre style=\"white-space:pre;overflow-x:auto;line-height:normal;font-family:Menlo,'DejaVu Sans Mono',consolas,'Courier New',monospace\"></pre>\n"
      ],
      "text/plain": []
     },
     "metadata": {},
     "output_type": "display_data"
    },
    {
     "name": "stderr",
     "output_type": "stream",
     "text": [
      "Sampling 4 chains for 1_000 tune and 1_000 draw iterations (4_000 + 4_000 draws total) took 201 seconds.\n",
      "Sampling: [y_obs]\n"
     ]
    },
    {
     "data": {
      "application/vnd.jupyter.widget-view+json": {
       "model_id": "a71fee5a55c447b28133e6593def48a7",
       "version_major": 2,
       "version_minor": 0
      },
      "text/plain": [
       "Output()"
      ]
     },
     "metadata": {},
     "output_type": "display_data"
    },
    {
     "data": {
      "text/html": [
       "<pre style=\"white-space:pre;overflow-x:auto;line-height:normal;font-family:Menlo,'DejaVu Sans Mono',consolas,'Courier New',monospace\"></pre>\n"
      ],
      "text/plain": []
     },
     "metadata": {},
     "output_type": "display_data"
    }
   ],
   "source": [
    "with pm.Model(coords={\n",
    "    \"time\": time,\n",
    "    \"keyword\": keyword_alpha,\n",
    "    \"chamber\": [\"Senate\", \"House\"]\n",
    "}) as zinb_model:\n",
    "    ### Data\n",
    "    keyword_data = pm.Data(\"keyword_data\", keywords, dims=\"obs\")\n",
    "    counts_data = pm.Data(\"counts_data\", keyword_counts, dims=\"obs\")\n",
    "    chamber_data = pm.Data(\"chamber_data\", chamber, dims=\"obs\")\n",
    "    T_t = pm.Data(\"T_t\", (time - 1990.75)/10, dims=\"time\")  # Centered/scaled\n",
    "    C_t = pm.Data(\"C_t\", total_tokens/10_000, dims=\"obs\")  # Pre-scale\n",
    "\n",
    "    ### Priors \n",
    "    alpha = pm.Gamma(\"alpha\", alpha=1, beta=0.1)\n",
    "    \n",
    "    # Transition parameters\n",
    "    s = pm.Gamma(\"s\", alpha=3, beta=1)\n",
    "    tau = pm.Normal(\"tau\", mu=0, sigma=1)\n",
    "\n",
    "    # Chamber effect (House vs Senate)\n",
    "    delta_j = pm.Normal(\"delta_j\", mu=0.2, sigma=0.1)\n",
    "    \n",
    "    # Each keyword gets its own intercept\n",
    "    alpha_k = pm.Normal(\"alpha_k\", mu=0, sigma=0.1, dims=\"keyword\")\n",
    "\n",
    "    # Shared pre/post slopes hierarchized by chamber\n",
    "    beta_pre_j = pm.Normal(\"beta_pre_j\", mu=0, sigma=0.05, dims=\"chamber\")\n",
    "    beta_post_j = pm.Normal(\"beta_post_j\", mu=0.1, sigma=0.1, dims=\"chamber\")\n",
    "\n",
    "    # Keyword-specific post treatment slope\n",
    "    gamma_k = pm.Normal(\"gamma_k\", mu=0, sigma=0.05, dims=\"keyword\")\n",
    "        \n",
    "    # Error term\n",
    "    sigma_t = pm.Exponential(\"sigma_t\", 1)\n",
    "      \n",
    "    ### Transition Function\n",
    "    def logistic_transition(T, s, tau):\n",
    "        return 1 / (1 + pt.exp(-s * (T - tau)))\n",
    "    \n",
    "    G = logistic_transition(T_t, s, tau)\n",
    "\n",
    "    ### ZINB Component\n",
    "    psi = pm.Beta(\"psi\", alpha=1, beta=18)\n",
    "\n",
    "    ### Linear Predictor\n",
    "    \n",
    "    mu = (\n",
    "        pt.log(C_t)  # Offset\n",
    "        + delta_j * chamber_data\n",
    "        + alpha_k[keyword_data]\n",
    "        + beta_pre_j[chamber_data] * T_t\n",
    "        + (gamma_k[keyword_data] + beta_post_j[chamber_data]) * T_t * G\n",
    "    )\n",
    "    \n",
    "    ### Likelihood\n",
    "    pm.ZeroInflatedNegativeBinomial(\n",
    "        \"y_obs\",\n",
    "        psi=psi,\n",
    "        mu=pt.exp(mu),\n",
    "        alpha=alpha,\n",
    "        observed=counts_data,\n",
    "        dims=\"obs\",\n",
    "    )\n",
    "    \n",
    "    ### Sampling\n",
    "    zinb_trace = pm.sample(1000, tune=1000, \n",
    "        target_accept=0.95,\n",
    "        nuts={\"max_treedepth\": 15},\n",
    "        init=\"adapt_diag\",\n",
    "        seed=42,\n",
    "        idata_kwargs={\"log_likelihood\": True}\n",
    "        )\n",
    "    zinb_ppc = pm.sample_posterior_predictive(zinb_trace)\n",
    "\n",
    "    zinb_trace.extend(zinb_ppc)\n",
    "    zinb_trace.to_netcdf(\"zinb_trace.nc\")\n",
    "\n",
    " "
   ]
  },
  {
   "cell_type": "markdown",
   "id": "5144ea25-6780-4d3c-ba63-6f0aa5569101",
   "metadata": {},
   "source": [
    "## Fit Hurdle"
   ]
  },
  {
   "cell_type": "code",
   "execution_count": 25,
   "id": "766fa7b2-8fb9-4955-8e33-330cdf3e3ca4",
   "metadata": {},
   "outputs": [
    {
     "name": "stderr",
     "output_type": "stream",
     "text": [
      "Initializing NUTS using adapt_diag...\n",
      "Multiprocess sampling (4 chains in 4 jobs)\n",
      "NUTS: [alpha, s, tau, delta_j, alpha_k, beta_pre_j, beta_post_j, gamma_k, sigma_t, psi]\n"
     ]
    },
    {
     "data": {
      "application/vnd.jupyter.widget-view+json": {
       "model_id": "88d8352d126c403da5698cbb4f009396",
       "version_major": 2,
       "version_minor": 0
      },
      "text/plain": [
       "Output()"
      ]
     },
     "metadata": {},
     "output_type": "display_data"
    },
    {
     "data": {
      "text/html": [
       "<pre style=\"white-space:pre;overflow-x:auto;line-height:normal;font-family:Menlo,'DejaVu Sans Mono',consolas,'Courier New',monospace\"></pre>\n"
      ],
      "text/plain": []
     },
     "metadata": {},
     "output_type": "display_data"
    },
    {
     "name": "stderr",
     "output_type": "stream",
     "text": [
      "Sampling 4 chains for 1_000 tune and 1_000 draw iterations (4_000 + 4_000 draws total) took 523 seconds.\n",
      "Sampling: [y_obs]\n"
     ]
    },
    {
     "data": {
      "application/vnd.jupyter.widget-view+json": {
       "model_id": "997d371bf459415aad7bed3f363acebc",
       "version_major": 2,
       "version_minor": 0
      },
      "text/plain": [
       "Output()"
      ]
     },
     "metadata": {},
     "output_type": "display_data"
    },
    {
     "data": {
      "text/html": [
       "<pre style=\"white-space:pre;overflow-x:auto;line-height:normal;font-family:Menlo,'DejaVu Sans Mono',consolas,'Courier New',monospace\"></pre>\n"
      ],
      "text/plain": []
     },
     "metadata": {},
     "output_type": "display_data"
    }
   ],
   "source": [
    "with pm.Model(coords={\n",
    "    \"time\": time,\n",
    "    \"keyword\": keyword_alpha,\n",
    "    \"chamber\": [\"Senate\", \"House\"]\n",
    "}) as hurdle_model:\n",
    "    ### Data\n",
    "    keyword_data = pm.Data(\"keyword_data\", keywords, dims=\"obs\")\n",
    "    counts_data = pm.Data(\"counts_data\", keyword_counts, dims=\"obs\")\n",
    "    chamber_data = pm.Data(\"chamber_data\", chamber, dims=\"obs\")\n",
    "    T_t = pm.Data(\"T_t\", (time - 1990.75)/10, dims=\"time\")  # Centered/scaled\n",
    "    C_t = pm.Data(\"C_t\", total_tokens/10_000, dims=\"obs\")  # Pre-scale\n",
    "\n",
    "    ### Priors \n",
    "    alpha = pm.Gamma(\"alpha\", alpha=1, beta=0.1)\n",
    "    \n",
    "    # Transition parameters\n",
    "    s = pm.Gamma(\"s\", alpha=3, beta=1)\n",
    "    tau = pm.Normal(\"tau\", mu=0, sigma=1)\n",
    "\n",
    "    # Chamber effect (House vs Senate)\n",
    "    delta_j = pm.Normal(\"delta_j\", mu=0.2, sigma=0.1)\n",
    "    \n",
    "    # Each keyword gets its own intercept\n",
    "    alpha_k = pm.Normal(\"alpha_k\", mu=0, sigma=0.1, dims=\"keyword\")\n",
    "\n",
    "    # Shared pre/post slopes hierarchized by chamber\n",
    "    beta_pre_j = pm.Normal(\"beta_pre_j\", mu=0, sigma=0.05, dims=\"chamber\")\n",
    "    beta_post_j = pm.Normal(\"beta_post_j\", mu=0.1, sigma=0.1, dims=\"chamber\")\n",
    "\n",
    "    # Keyword-specific post treatment slope\n",
    "    gamma_k = pm.Normal(\"gamma_k\", mu=0, sigma=0.05, dims=\"keyword\")\n",
    "        \n",
    "    # Error term\n",
    "    sigma_t = pm.Exponential(\"sigma_t\", 1)\n",
    "      \n",
    "    ### Transition Function\n",
    "    def logistic_transition(T, s, tau):\n",
    "        return 1 / (1 + pt.exp(-s * (T - tau)))\n",
    "    \n",
    "    G = logistic_transition(T_t, s, tau)\n",
    "\n",
    "    ### Hurdle component\n",
    "    psi = pm.Beta(\"psi\", alpha=1, beta=18)\n",
    "\n",
    "    ### Non-Zero\n",
    "    \n",
    "    mu = (\n",
    "        pt.log(C_t)  # Offset\n",
    "        + delta_j * chamber_data\n",
    "        + alpha_k[keyword_data]\n",
    "        + beta_pre_j[chamber_data] * T_t\n",
    "        + (gamma_k[keyword_data] + beta_post_j[chamber_data]) * T_t * G\n",
    "    )\n",
    "    \n",
    "    ### Likelihood\n",
    "    pm.HurdleNegativeBinomial(\n",
    "        \"y_obs\",\n",
    "        psi=psi,\n",
    "        mu=pt.exp(mu),\n",
    "        alpha=alpha,\n",
    "        observed=counts_data,\n",
    "        dims=\"obs\",\n",
    "    )\n",
    "    \n",
    "    ### Sampling\n",
    "    hurdle_trace = pm.sample(1000, tune=1000, \n",
    "        target_accept=0.95,\n",
    "        nuts={\"max_treedepth\": 15},\n",
    "        init=\"adapt_diag\",\n",
    "        seed=42,\n",
    "        idata_kwargs={\"log_likelihood\": True}\n",
    "        )\n",
    "    hurdle_ppc = pm.sample_posterior_predictive(hurdle_trace)\n",
    "\n",
    "    hurdle_trace.extend(hurdle_ppc)\n",
    "    hurdle_trace.to_netcdf(\"hurdle_trace.nc\")\n",
    "\n",
    " "
   ]
  },
  {
   "cell_type": "markdown",
   "id": "95d3d4e2-a30f-43be-9bf4-96d07e8e12f9",
   "metadata": {},
   "source": [
    "## Fit Generalized Poisson"
   ]
  },
  {
   "cell_type": "code",
   "execution_count": 26,
   "id": "fb1d4bb9-3fc3-4f6c-abd5-cef2cb4e88d9",
   "metadata": {},
   "outputs": [
    {
     "name": "stderr",
     "output_type": "stream",
     "text": [
      "Initializing NUTS using adapt_diag...\n",
      "Multiprocess sampling (4 chains in 4 jobs)\n",
      "NUTS: [lam, s, tau, delta_j, alpha_k, beta_pre_j, beta_post_j, gamma_k, sigma_t]\n"
     ]
    },
    {
     "data": {
      "application/vnd.jupyter.widget-view+json": {
       "model_id": "c31782db44a74ababf33a451540839fb",
       "version_major": 2,
       "version_minor": 0
      },
      "text/plain": [
       "Output()"
      ]
     },
     "metadata": {},
     "output_type": "display_data"
    },
    {
     "data": {
      "text/html": [
       "<pre style=\"white-space:pre;overflow-x:auto;line-height:normal;font-family:Menlo,'DejaVu Sans Mono',consolas,'Courier New',monospace\"></pre>\n"
      ],
      "text/plain": []
     },
     "metadata": {},
     "output_type": "display_data"
    },
    {
     "name": "stderr",
     "output_type": "stream",
     "text": [
      "Sampling 4 chains for 1_000 tune and 1_000 draw iterations (4_000 + 4_000 draws total) took 123 seconds.\n",
      "Sampling: [y_obs]\n"
     ]
    },
    {
     "data": {
      "application/vnd.jupyter.widget-view+json": {
       "model_id": "9cc9caf2b4f949b59f9fbd412d8d6913",
       "version_major": 2,
       "version_minor": 0
      },
      "text/plain": [
       "Output()"
      ]
     },
     "metadata": {},
     "output_type": "display_data"
    },
    {
     "data": {
      "text/html": [
       "<pre style=\"white-space:pre;overflow-x:auto;line-height:normal;font-family:Menlo,'DejaVu Sans Mono',consolas,'Courier New',monospace\"></pre>\n"
      ],
      "text/plain": []
     },
     "metadata": {},
     "output_type": "display_data"
    }
   ],
   "source": [
    "import pymc_extras as pmx\n",
    "\n",
    "with pm.Model(coords={\n",
    "    \"time\": time,\n",
    "    \"keyword\": keyword_alpha,\n",
    "    \"chamber\": [\"Senate\", \"House\"]\n",
    "}) as gen_poi_model:\n",
    "    ### Data\n",
    "    keyword_data = pm.Data(\"keyword_data\", keywords, dims=\"obs\")\n",
    "    counts_data = pm.Data(\"counts_data\", keyword_counts, dims=\"obs\")\n",
    "    chamber_data = pm.Data(\"chamber_data\", chamber, dims=\"obs\")\n",
    "    T_t = pm.Data(\"T_t\", (time - 1990.75)/10, dims=\"time\")  # Centered/scaled\n",
    "    C_t = pm.Data(\"C_t\", total_tokens/10_000, dims=\"obs\")  # Pre-scale\n",
    "\n",
    "    ### Priors \n",
    "    lam = pm.Beta(\"lam\", alpha=2, beta=5)\n",
    "    \n",
    "    # Transition parameters\n",
    "    s = pm.Gamma(\"s\", alpha=3, beta=1)\n",
    "    tau = pm.Normal(\"tau\", mu=0, sigma=1)\n",
    "\n",
    "    # Chamber effect (House vs Senate)\n",
    "    delta_j = pm.Normal(\"delta_j\", mu=0.2, sigma=0.1)\n",
    "    \n",
    "    # Each keyword gets its own intercept\n",
    "    alpha_k = pm.Normal(\"alpha_k\", mu=0, sigma=0.1, dims=\"keyword\")\n",
    "\n",
    "    # Shared pre/post slopes hierarchized by chamber\n",
    "    beta_pre_j = pm.Normal(\"beta_pre_j\", mu=0, sigma=0.05, dims=\"chamber\")\n",
    "    beta_post_j = pm.Normal(\"beta_post_j\", mu=0.1, sigma=0.1, dims=\"chamber\")\n",
    "\n",
    "    # Keyword-specific post treatment slope\n",
    "    gamma_k = pm.Normal(\"gamma_k\", mu=0, sigma=0.05, dims=\"keyword\")\n",
    "        \n",
    "    # Error term\n",
    "    sigma_t = pm.Exponential(\"sigma_t\", 1)\n",
    "      \n",
    "    ### Transition Function\n",
    "    def logistic_transition(T, s, tau):\n",
    "        return 1 / (1 + pt.exp(-s * (T - tau)))\n",
    "    \n",
    "    G = logistic_transition(T_t, s, tau)\n",
    "\n",
    "    ### Linear Predictor\n",
    "    \n",
    "    mu = (\n",
    "        pt.log(C_t)  # Offset\n",
    "        + delta_j * chamber_data\n",
    "        + alpha_k[keyword_data]\n",
    "        + beta_pre_j[chamber_data] * T_t\n",
    "        + (gamma_k[keyword_data] + beta_post_j[chamber_data]) * T_t * G\n",
    "    )\n",
    "    \n",
    "    ### Likelihood\n",
    "    pmx.distributions.GeneralizedPoisson(\n",
    "        \"y_obs\",\n",
    "        lam=lam,\n",
    "        mu=pt.exp(mu),\n",
    "        observed=counts_data,\n",
    "        dims=\"obs\",\n",
    "    )\n",
    "    \n",
    "    ### Sampling\n",
    "    gen_poi_trace = pm.sample(1000, tune=1000, \n",
    "        target_accept=0.95,\n",
    "        nuts={\"max_treedepth\": 15},\n",
    "        init=\"adapt_diag\",\n",
    "        seed=42,\n",
    "        idata_kwargs={\"log_likelihood\": True}\n",
    "        )\n",
    "    gen_poi_ppc = pm.sample_posterior_predictive(gen_poi_trace)\n",
    "\n",
    "    gen_poi_trace.extend(gen_poi_ppc)\n",
    "    gen_poi_trace.to_netcdf(\"gen_poi_trace.nc\")\n"
   ]
  },
  {
   "cell_type": "markdown",
   "id": "a70b4bd0-ae2a-4c7f-9715-195dcc9844ac",
   "metadata": {},
   "source": [
    "## Comparison"
   ]
  },
  {
   "cell_type": "code",
   "execution_count": 27,
   "id": "50907ec6-d741-4fa0-96ad-1b2109e2253d",
   "metadata": {},
   "outputs": [],
   "source": [
    "nb = az.from_netcdf(\"nb_trace.nc\")\n",
    "zinb = az.from_netcdf(\"zinb_trace.nc\")\n",
    "hurdle = az.from_netcdf(\"hurdle_trace.nc\")\n",
    "genpoi = az.from_netcdf(\"gen_poi_trace.nc\")"
   ]
  },
  {
   "cell_type": "code",
   "execution_count": 28,
   "id": "20e715cd-e5c0-435c-8cac-8a5fa0039d58",
   "metadata": {},
   "outputs": [],
   "source": [
    "traces = {\n",
    "    \"Negative Binomial\": nb,\n",
    "    \"Hurdle NB\": hurdle,\n",
    "    \"ZINB\": zinb,\n",
    "    \"Generalized Poisson\": genpoi\n",
    "}\n"
   ]
  },
  {
   "cell_type": "code",
   "execution_count": 29,
   "id": "9b739215-5317-48a1-87ce-558644018534",
   "metadata": {},
   "outputs": [
    {
     "data": {
      "image/png": "[encoded data removed]",
      "text/plain": [
       "<Figure size 1000x400 with 1 Axes>"
      ]
     },
     "metadata": {},
     "output_type": "display_data"
    }
   ],
   "source": [
    "cmp_loo = az.compare(traces, ic=\"loo\")\n",
    "loo = az.plot_compare(cmp_loo, figsize=(10, 4), plot_ic_diff=True)"
   ]
  },
  {
   "cell_type": "code",
   "execution_count": 30,
   "id": "f0f6a57e-9696-4503-9352-bd4c152e1355",
   "metadata": {},
   "outputs": [
    {
     "data": {
      "text/html": [
       "<div>\n",
       "<style scoped>\n",
       "    .dataframe tbody tr th:only-of-type {\n",
       "        vertical-align: middle;\n",
       "    }\n",
       "\n",
       "    .dataframe tbody tr th {\n",
       "        vertical-align: top;\n",
       "    }\n",
       "\n",
       "    .dataframe thead th {\n",
       "        text-align: right;\n",
       "    }\n",
       "</style>\n",
       "<table border=\"1\" class=\"dataframe\">\n",
       "  <thead>\n",
       "    <tr style=\"text-align: right;\">\n",
       "      <th></th>\n",
       "      <th>rank</th>\n",
       "      <th>elpd_loo</th>\n",
       "      <th>p_loo</th>\n",
       "      <th>elpd_diff</th>\n",
       "      <th>weight</th>\n",
       "      <th>se</th>\n",
       "      <th>dse</th>\n",
       "      <th>warning</th>\n",
       "      <th>scale</th>\n",
       "    </tr>\n",
       "  </thead>\n",
       "  <tbody>\n",
       "    <tr>\n",
       "      <th>Generalized Poisson</th>\n",
       "      <td>0</td>\n",
       "      <td>-98625.323820</td>\n",
       "      <td>348.930878</td>\n",
       "      <td>0.000000</td>\n",
       "      <td>7.278289e-01</td>\n",
       "      <td>342.593174</td>\n",
       "      <td>0.000000</td>\n",
       "      <td>False</td>\n",
       "      <td>log</td>\n",
       "    </tr>\n",
       "    <tr>\n",
       "      <th>ZINB</th>\n",
       "      <td>1</td>\n",
       "      <td>-99076.377670</td>\n",
       "      <td>79.704972</td>\n",
       "      <td>451.053850</td>\n",
       "      <td>8.803986e-08</td>\n",
       "      <td>228.855845</td>\n",
       "      <td>226.872318</td>\n",
       "      <td>False</td>\n",
       "      <td>log</td>\n",
       "    </tr>\n",
       "    <tr>\n",
       "      <th>Hurdle NB</th>\n",
       "      <td>2</td>\n",
       "      <td>-99189.720981</td>\n",
       "      <td>80.125285</td>\n",
       "      <td>564.397162</td>\n",
       "      <td>2.721711e-01</td>\n",
       "      <td>228.077526</td>\n",
       "      <td>228.124469</td>\n",
       "      <td>False</td>\n",
       "      <td>log</td>\n",
       "    </tr>\n",
       "    <tr>\n",
       "      <th>Negative Binomial</th>\n",
       "      <td>3</td>\n",
       "      <td>-102303.454792</td>\n",
       "      <td>45.779634</td>\n",
       "      <td>3678.130972</td>\n",
       "      <td>0.000000e+00</td>\n",
       "      <td>232.778038</td>\n",
       "      <td>230.726970</td>\n",
       "      <td>False</td>\n",
       "      <td>log</td>\n",
       "    </tr>\n",
       "  </tbody>\n",
       "</table>\n",
       "</div>"
      ],
      "text/plain": [
       "                     rank       elpd_loo       p_loo    elpd_diff  \\\n",
       "Generalized Poisson     0  -98625.323820  348.930878     0.000000   \n",
       "ZINB                    1  -99076.377670   79.704972   451.053850   \n",
       "Hurdle NB               2  -99189.720981   80.125285   564.397162   \n",
       "Negative Binomial       3 -102303.454792   45.779634  3678.130972   \n",
       "\n",
       "                           weight          se         dse  warning scale  \n",
       "Generalized Poisson  7.278289e-01  342.593174    0.000000    False   log  \n",
       "ZINB                 8.803986e-08  228.855845  226.872318    False   log  \n",
       "Hurdle NB            2.721711e-01  228.077526  228.124469    False   log  \n",
       "Negative Binomial    0.000000e+00  232.778038  230.726970    False   log  "
      ]
     },
     "execution_count": 30,
     "metadata": {},
     "output_type": "execute_result"
    }
   ],
   "source": [
    "cmp_loo"
   ]
  },
  {
   "cell_type": "code",
   "execution_count": 31,
   "id": "e6f56257-3fc0-4322-84dd-09a33c0eeae4",
   "metadata": {},
   "outputs": [
    {
     "data": {
      "text/html": [
       "<div>\n",
       "<style scoped>\n",
       "    .dataframe tbody tr th:only-of-type {\n",
       "        vertical-align: middle;\n",
       "    }\n",
       "\n",
       "    .dataframe tbody tr th {\n",
       "        vertical-align: top;\n",
       "    }\n",
       "\n",
       "    .dataframe thead th {\n",
       "        text-align: right;\n",
       "    }\n",
       "</style>\n",
       "<table border=\"1\" class=\"dataframe\">\n",
       "  <thead>\n",
       "    <tr style=\"text-align: right;\">\n",
       "      <th></th>\n",
       "      <th>mean</th>\n",
       "      <th>sd</th>\n",
       "      <th>hdi_3%</th>\n",
       "      <th>hdi_97%</th>\n",
       "      <th>mcse_mean</th>\n",
       "      <th>mcse_sd</th>\n",
       "      <th>ess_bulk</th>\n",
       "      <th>ess_tail</th>\n",
       "      <th>r_hat</th>\n",
       "    </tr>\n",
       "  </thead>\n",
       "  <tbody>\n",
       "    <tr>\n",
       "      <th>tau</th>\n",
       "      <td>0.001</td>\n",
       "      <td>0.002</td>\n",
       "      <td>-0.003</td>\n",
       "      <td>0.006</td>\n",
       "      <td>0.000</td>\n",
       "      <td>0.000</td>\n",
       "      <td>11089.0</td>\n",
       "      <td>3221.0</td>\n",
       "      <td>1.0</td>\n",
       "    </tr>\n",
       "    <tr>\n",
       "      <th>delta_j</th>\n",
       "      <td>-1.079</td>\n",
       "      <td>0.012</td>\n",
       "      <td>-1.102</td>\n",
       "      <td>-1.058</td>\n",
       "      <td>0.000</td>\n",
       "      <td>0.000</td>\n",
       "      <td>3347.0</td>\n",
       "      <td>2655.0</td>\n",
       "      <td>1.0</td>\n",
       "    </tr>\n",
       "    <tr>\n",
       "      <th>beta_pre_j[Senate]</th>\n",
       "      <td>1.491</td>\n",
       "      <td>0.018</td>\n",
       "      <td>1.455</td>\n",
       "      <td>1.523</td>\n",
       "      <td>0.000</td>\n",
       "      <td>0.000</td>\n",
       "      <td>3134.0</td>\n",
       "      <td>2748.0</td>\n",
       "      <td>1.0</td>\n",
       "    </tr>\n",
       "    <tr>\n",
       "      <th>beta_pre_j[House]</th>\n",
       "      <td>0.062</td>\n",
       "      <td>0.017</td>\n",
       "      <td>0.029</td>\n",
       "      <td>0.092</td>\n",
       "      <td>0.000</td>\n",
       "      <td>0.000</td>\n",
       "      <td>5699.0</td>\n",
       "      <td>3128.0</td>\n",
       "      <td>1.0</td>\n",
       "    </tr>\n",
       "    <tr>\n",
       "      <th>beta_post_j[Senate]</th>\n",
       "      <td>-3.109</td>\n",
       "      <td>0.037</td>\n",
       "      <td>-3.177</td>\n",
       "      <td>-3.037</td>\n",
       "      <td>0.001</td>\n",
       "      <td>0.001</td>\n",
       "      <td>2973.0</td>\n",
       "      <td>2989.0</td>\n",
       "      <td>1.0</td>\n",
       "    </tr>\n",
       "    <tr>\n",
       "      <th>beta_post_j[House]</th>\n",
       "      <td>0.148</td>\n",
       "      <td>0.033</td>\n",
       "      <td>0.086</td>\n",
       "      <td>0.210</td>\n",
       "      <td>0.000</td>\n",
       "      <td>0.001</td>\n",
       "      <td>5712.0</td>\n",
       "      <td>3129.0</td>\n",
       "      <td>1.0</td>\n",
       "    </tr>\n",
       "    <tr>\n",
       "      <th>lam</th>\n",
       "      <td>0.880</td>\n",
       "      <td>0.001</td>\n",
       "      <td>0.878</td>\n",
       "      <td>0.882</td>\n",
       "      <td>0.000</td>\n",
       "      <td>0.000</td>\n",
       "      <td>2604.0</td>\n",
       "      <td>2857.0</td>\n",
       "      <td>1.0</td>\n",
       "    </tr>\n",
       "    <tr>\n",
       "      <th>s</th>\n",
       "      <td>87.395</td>\n",
       "      <td>5.571</td>\n",
       "      <td>77.402</td>\n",
       "      <td>98.026</td>\n",
       "      <td>0.055</td>\n",
       "      <td>0.104</td>\n",
       "      <td>10784.0</td>\n",
       "      <td>2944.0</td>\n",
       "      <td>1.0</td>\n",
       "    </tr>\n",
       "    <tr>\n",
       "      <th>sigma_t</th>\n",
       "      <td>0.995</td>\n",
       "      <td>0.984</td>\n",
       "      <td>0.001</td>\n",
       "      <td>2.891</td>\n",
       "      <td>0.011</td>\n",
       "      <td>0.022</td>\n",
       "      <td>6363.0</td>\n",
       "      <td>2672.0</td>\n",
       "      <td>1.0</td>\n",
       "    </tr>\n",
       "  </tbody>\n",
       "</table>\n",
       "</div>"
      ],
      "text/plain": [
       "                       mean     sd  hdi_3%  hdi_97%  mcse_mean  mcse_sd  \\\n",
       "tau                   0.001  0.002  -0.003    0.006      0.000    0.000   \n",
       "delta_j              -1.079  0.012  -1.102   -1.058      0.000    0.000   \n",
       "beta_pre_j[Senate]    1.491  0.018   1.455    1.523      0.000    0.000   \n",
       "beta_pre_j[House]     0.062  0.017   0.029    0.092      0.000    0.000   \n",
       "beta_post_j[Senate]  -3.109  0.037  -3.177   -3.037      0.001    0.001   \n",
       "beta_post_j[House]    0.148  0.033   0.086    0.210      0.000    0.001   \n",
       "lam                   0.880  0.001   0.878    0.882      0.000    0.000   \n",
       "s                    87.395  5.571  77.402   98.026      0.055    0.104   \n",
       "sigma_t               0.995  0.984   0.001    2.891      0.011    0.022   \n",
       "\n",
       "                     ess_bulk  ess_tail  r_hat  \n",
       "tau                   11089.0    3221.0    1.0  \n",
       "delta_j                3347.0    2655.0    1.0  \n",
       "beta_pre_j[Senate]     3134.0    2748.0    1.0  \n",
       "beta_pre_j[House]      5699.0    3128.0    1.0  \n",
       "beta_post_j[Senate]    2973.0    2989.0    1.0  \n",
       "beta_post_j[House]     5712.0    3129.0    1.0  \n",
       "lam                    2604.0    2857.0    1.0  \n",
       "s                     10784.0    2944.0    1.0  \n",
       "sigma_t                6363.0    2672.0    1.0  "
      ]
     },
     "execution_count": 31,
     "metadata": {},
     "output_type": "execute_result"
    }
   ],
   "source": [
    "az.summary(genpoi, var_names=[\"~alpha_k\", \"~gamma_k\"])"
   ]
  },
  {
   "cell_type": "code",
   "execution_count": 32,
   "id": "a88d1112-4197-4917-b5bc-24bf8f78afac",
   "metadata": {},
   "outputs": [],
   "source": [
    "alpha_post = genpoi.posterior[\"alpha_k\"]\n",
    "gamma_post = genpoi.posterior[\"gamma_k\"]"
   ]
  },
  {
   "cell_type": "code",
   "execution_count": 33,
   "id": "17577576-de9c-4757-bb5c-ca21722f9271",
   "metadata": {},
   "outputs": [
    {
     "data": {
      "image/png": "[encoded data removed]",
      "text/plain": [
       "<Figure size 1200x600 with 2 Axes>"
      ]
     },
     "metadata": {},
     "output_type": "display_data"
    }
   ],
   "source": [
    "alpha_med = alpha_post.median((\"chain\", \"draw\"))\n",
    "gamma_med = gamma_post.median((\"chain\", \"draw\"))\n",
    "\n",
    "\n",
    "sorted_idx = np.argsort(gamma_med)\n",
    "extreme_kwds = np.concatenate([sorted_idx[:5], sorted_idx[-5:]])\n",
    "kw_labels = [str(gamma_med.keyword.values[i]) for i in extreme_kwds]\n",
    "\n",
    "plot_order = np.flip(extreme_kwds)\n",
    "kw_labels = [kw_labels[i] for i in np.flip(np.arange(len(extreme_kwds)))]\n",
    "\n",
    "fig, (ax1, ax2) = plt.subplots(1, 2, figsize=(12, 6), sharey=True)\n",
    "\n",
    "az.plot_forest(\n",
    "    alpha_post.isel(keyword=plot_order),\n",
    "    combined=True,\n",
    "    hdi_prob=0.95,\n",
    "    ax=ax1,\n",
    "    textsize=10\n",
    ")\n",
    "ax1.set_title(\"Baseline Frequency (alpha_k)\")\n",
    "ax1.set_xlabel(\"Log-Count Effect\")\n",
    "ax1.axvline(0, color='k', ls=':', alpha=0.3)\n",
    "\n",
    "az.plot_forest(\n",
    "    gamma_post.isel(keyword=plot_order),\n",
    "    combined=True,\n",
    "    hdi_prob=0.95,\n",
    "    ax=ax2,\n",
    "    textsize=10\n",
    ")\n",
    "ax2.set_title(\"Post-Transition Adjustment from Chamber-Specific Baseline Change (gamma_k)\")\n",
    "ax2.set_xlabel(\"Slope Adjustment\")\n",
    "ax2.axvline(0, color='k', ls=':', alpha=0.3)\n",
    "\n",
    "for ax in (ax1, ax2):\n",
    "    ax.axhline(3.5, color='grey', linestyle='--', alpha=0.5)\n",
    "\n",
    "plt.suptitle(\"Top and Bottom Five Keywords by Post-Transition Change\")\n",
    "plt.tight_layout()\n",
    "plt.show()"
   ]
  },
  {
   "cell_type": "code",
   "execution_count": 34,
   "id": "ef834ee4-c166-4217-8d71-2834962977ce",
   "metadata": {},
   "outputs": [
    {
     "data": {
      "text/html": [
       "<div><style>\n",
       ".dataframe > thead > tr,\n",
       ".dataframe > tbody > tr {\n",
       "  text-align: right;\n",
       "  white-space: pre-wrap;\n",
       "}\n",
       "</style>\n",
       "<small>shape: (10, 2)</small><table border=\"1\" class=\"dataframe\"><thead><tr><th>keyword</th><th>count</th></tr><tr><td>cat</td><td>u32</td></tr></thead><tbody><tr><td>&quot;provid&quot;</td><td>470633</td></tr><tr><td>&quot;right&quot;</td><td>403432</td></tr><tr><td>&quot;tax&quot;</td><td>391548</td></tr><tr><td>&quot;care&quot;</td><td>267658</td></tr><tr><td>&quot;help&quot;</td><td>241687</td></tr><tr><td>&quot;spend&quot;</td><td>232154</td></tr><tr><td>&quot;chang&quot;</td><td>229596</td></tr><tr><td>&quot;famili&quot;</td><td>220088</td></tr><tr><td>&quot;debat&quot;</td><td>218197</td></tr><tr><td>&quot;protect&quot;</td><td>215056</td></tr></tbody></table></div>"
      ],
      "text/plain": [
       "shape: (10, 2)\n",
       "┌─────────┬────────┐\n",
       "│ keyword ┆ count  │\n",
       "│ ---     ┆ ---    │\n",
       "│ cat     ┆ u32    │\n",
       "╞═════════╪════════╡\n",
       "│ provid  ┆ 470633 │\n",
       "│ right   ┆ 403432 │\n",
       "│ tax     ┆ 391548 │\n",
       "│ care    ┆ 267658 │\n",
       "│ help    ┆ 241687 │\n",
       "│ spend   ┆ 232154 │\n",
       "│ chang   ┆ 229596 │\n",
       "│ famili  ┆ 220088 │\n",
       "│ debat   ┆ 218197 │\n",
       "│ protect ┆ 215056 │\n",
       "└─────────┴────────┘"
      ]
     },
     "execution_count": 34,
     "metadata": {},
     "output_type": "execute_result"
    }
   ],
   "source": [
    "df.group_by(\"keyword\").agg(pl.col(\"count\").sum()).sort(\"count\", descending=True).head(10)"
   ]
  },
  {
   "cell_type": "markdown",
   "id": "1129bee1-edf0-450b-b08c-4c246d9ce24a",
   "metadata": {},
   "source": [
    "## 1994 Prior"
   ]
  },
  {
   "cell_type": "code",
   "execution_count": 35,
   "id": "9c8db18c-6fc5-4c96-b60e-b75437ac3b0b",
   "metadata": {},
   "outputs": [
    {
     "name": "stderr",
     "output_type": "stream",
     "text": [
      "Initializing NUTS using adapt_diag...\n",
      "Multiprocess sampling (4 chains in 4 jobs)\n",
      "NUTS: [lam, s, tau, delta_j, alpha_k, beta_pre_j, beta_post_j, gamma_k, sigma_t]\n"
     ]
    },
    {
     "data": {
      "application/vnd.jupyter.widget-view+json": {
       "model_id": "76d8d2dddbd8420e983ee48273c13dc7",
       "version_major": 2,
       "version_minor": 0
      },
      "text/plain": [
       "Output()"
      ]
     },
     "metadata": {},
     "output_type": "display_data"
    },
    {
     "name": "stderr",
     "output_type": "stream",
     "text": [
      "/Users/moacir/Library/Caches/pypoetry/virtualenvs/msds-84kKSU7y-py3.13/lib/python3.13/site-packages/pytensor/tensor/subtensor.py:2538: RuntimeWarning: invalid value encountered in add\n",
      "  np.add.at(x, idx, y)\n",
      "/Users/moacir/Library/Caches/pypoetry/virtualenvs/msds-84kKSU7y-py3.13/lib/python3.13/site-packages/pytensor/tensor/subtensor.py:2538: RuntimeWarning: invalid value encountered in add\n",
      "  np.add.at(x, idx, y)\n",
      "/Users/moacir/Library/Caches/pypoetry/virtualenvs/msds-84kKSU7y-py3.13/lib/python3.13/site-packages/pytensor/tensor/subtensor.py:2538: RuntimeWarning: invalid value encountered in add\n",
      "  np.add.at(x, idx, y)\n",
      "/Users/moacir/Library/Caches/pypoetry/virtualenvs/msds-84kKSU7y-py3.13/lib/python3.13/site-packages/pytensor/tensor/subtensor.py:2538: RuntimeWarning: invalid value encountered in add\n",
      "  np.add.at(x, idx, y)\n"
     ]
    },
    {
     "data": {
      "text/html": [
       "<pre style=\"white-space:pre;overflow-x:auto;line-height:normal;font-family:Menlo,'DejaVu Sans Mono',consolas,'Courier New',monospace\"></pre>\n"
      ],
      "text/plain": []
     },
     "metadata": {},
     "output_type": "display_data"
    },
    {
     "name": "stderr",
     "output_type": "stream",
     "text": [
      "Sampling 4 chains for 1_000 tune and 1_000 draw iterations (4_000 + 4_000 draws total) took 107 seconds.\n",
      "Sampling: [y_obs]\n"
     ]
    },
    {
     "data": {
      "application/vnd.jupyter.widget-view+json": {
       "model_id": "1f9d7d3d853947249a0ba8e6ac42967c",
       "version_major": 2,
       "version_minor": 0
      },
      "text/plain": [
       "Output()"
      ]
     },
     "metadata": {},
     "output_type": "display_data"
    },
    {
     "data": {
      "text/html": [
       "<pre style=\"white-space:pre;overflow-x:auto;line-height:normal;font-family:Menlo,'DejaVu Sans Mono',consolas,'Courier New',monospace\"></pre>\n"
      ],
      "text/plain": []
     },
     "metadata": {},
     "output_type": "display_data"
    }
   ],
   "source": [
    "with pm.Model(coords={\n",
    "    \"time\": time,\n",
    "    \"keyword\": keyword_alpha,\n",
    "    \"chamber\": [\"Senate\", \"House\"]\n",
    "}) as gen_poi_1994_model:\n",
    "    ### Data\n",
    "    keyword_data = pm.Data(\"keyword_data\", keywords, dims=\"obs\")\n",
    "    counts_data = pm.Data(\"counts_data\", keyword_counts, dims=\"obs\")\n",
    "    chamber_data = pm.Data(\"chamber_data\", chamber, dims=\"obs\")\n",
    "    T_t = pm.Data(\"T_t\", (time - 1994.75)/10, dims=\"time\")  # Centered/scaled\n",
    "    C_t = pm.Data(\"C_t\", total_tokens/10_000, dims=\"obs\")  # Pre-scale\n",
    "\n",
    "    ### Priors \n",
    "    lam = pm.Beta(\"lam\", alpha=2, beta=5)\n",
    "    \n",
    "    # Transition parameters\n",
    "    s = pm.Gamma(\"s\", alpha=3, beta=1)\n",
    "    tau = pm.Normal(\"tau\", mu=0, sigma=1)\n",
    "\n",
    "    # Chamber effect (House vs Senate)\n",
    "    delta_j = pm.Normal(\"delta_j\", mu=0.2, sigma=0.1)\n",
    "    \n",
    "    # Each keyword gets its own intercept\n",
    "    alpha_k = pm.Normal(\"alpha_k\", mu=0, sigma=0.1, dims=\"keyword\")\n",
    "\n",
    "    # Shared pre/post slopes hierarchized by chamber\n",
    "    beta_pre_j = pm.Normal(\"beta_pre_j\", mu=0, sigma=0.05, dims=\"chamber\")\n",
    "    beta_post_j = pm.Normal(\"beta_post_j\", mu=0.1, sigma=0.1, dims=\"chamber\")\n",
    "\n",
    "    # Keyword-specific post treatment slope\n",
    "    gamma_k = pm.Normal(\"gamma_k\", mu=0, sigma=0.05, dims=\"keyword\")\n",
    "        \n",
    "    # Error term\n",
    "    sigma_t = pm.Exponential(\"sigma_t\", 1)\n",
    "      \n",
    "    ### Transition Function\n",
    "    def logistic_transition(T, s, tau):\n",
    "        return 1 / (1 + pt.exp(-s * (T - tau)))\n",
    "    \n",
    "    G = logistic_transition(T_t, s, tau)\n",
    "\n",
    "    ### Linear Predictor\n",
    "    \n",
    "    mu = (\n",
    "        pt.log(C_t)  # Offset\n",
    "        + delta_j * chamber_data\n",
    "        + alpha_k[keyword_data]\n",
    "        + beta_pre_j[chamber_data] * T_t\n",
    "        + (gamma_k[keyword_data] + beta_post_j[chamber_data]) * T_t * G\n",
    "    )\n",
    "    \n",
    "    ### Likelihood\n",
    "    pmx.distributions.GeneralizedPoisson(\n",
    "        \"y_obs\",\n",
    "        lam=lam,\n",
    "        mu=pt.exp(mu),\n",
    "        observed=counts_data,\n",
    "        dims=\"obs\",\n",
    "    )\n",
    "    \n",
    "    ### Sampling\n",
    "    gen_poi_1994_trace = pm.sample(1000, tune=1000, \n",
    "        target_accept=0.95,\n",
    "        nuts={\"max_treedepth\": 15},\n",
    "        init=\"adapt_diag\",\n",
    "        seed=42,\n",
    "        idata_kwargs={\"log_likelihood\": True}\n",
    "        )\n",
    "    gen_poi_1994_ppc = pm.sample_posterior_predictive(gen_poi_1994_trace)\n",
    "\n",
    "    gen_poi_1994_trace.extend(gen_poi_1994_ppc)\n",
    "    gen_poi_1994_trace.to_netcdf(\"gen_poi_1994_trace.nc\")\n"
   ]
  },
  {
   "cell_type": "code",
   "execution_count": 36,
   "id": "16ff5b08-6cd0-436c-86cc-8bd06b7d8be2",
   "metadata": {},
   "outputs": [
    {
     "data": {
      "text/html": [
       "<div>\n",
       "<style scoped>\n",
       "    .dataframe tbody tr th:only-of-type {\n",
       "        vertical-align: middle;\n",
       "    }\n",
       "\n",
       "    .dataframe tbody tr th {\n",
       "        vertical-align: top;\n",
       "    }\n",
       "\n",
       "    .dataframe thead th {\n",
       "        text-align: right;\n",
       "    }\n",
       "</style>\n",
       "<table border=\"1\" class=\"dataframe\">\n",
       "  <thead>\n",
       "    <tr style=\"text-align: right;\">\n",
       "      <th></th>\n",
       "      <th>mean</th>\n",
       "      <th>sd</th>\n",
       "      <th>hdi_3%</th>\n",
       "      <th>hdi_97%</th>\n",
       "      <th>mcse_mean</th>\n",
       "      <th>mcse_sd</th>\n",
       "      <th>ess_bulk</th>\n",
       "      <th>ess_tail</th>\n",
       "      <th>r_hat</th>\n",
       "    </tr>\n",
       "  </thead>\n",
       "  <tbody>\n",
       "    <tr>\n",
       "      <th>tau</th>\n",
       "      <td>-0.002</td>\n",
       "      <td>0.002</td>\n",
       "      <td>-0.005</td>\n",
       "      <td>0.001</td>\n",
       "      <td>0.000</td>\n",
       "      <td>0.000</td>\n",
       "      <td>7196.0</td>\n",
       "      <td>2570.0</td>\n",
       "      <td>1.0</td>\n",
       "    </tr>\n",
       "    <tr>\n",
       "      <th>delta_j</th>\n",
       "      <td>-1.016</td>\n",
       "      <td>0.011</td>\n",
       "      <td>-1.036</td>\n",
       "      <td>-0.996</td>\n",
       "      <td>0.000</td>\n",
       "      <td>0.000</td>\n",
       "      <td>3288.0</td>\n",
       "      <td>3062.0</td>\n",
       "      <td>1.0</td>\n",
       "    </tr>\n",
       "    <tr>\n",
       "      <th>beta_pre_j[Senate]</th>\n",
       "      <td>1.100</td>\n",
       "      <td>0.013</td>\n",
       "      <td>1.076</td>\n",
       "      <td>1.123</td>\n",
       "      <td>0.000</td>\n",
       "      <td>0.000</td>\n",
       "      <td>2906.0</td>\n",
       "      <td>3220.0</td>\n",
       "      <td>1.0</td>\n",
       "    </tr>\n",
       "    <tr>\n",
       "      <th>beta_pre_j[House]</th>\n",
       "      <td>0.132</td>\n",
       "      <td>0.011</td>\n",
       "      <td>0.111</td>\n",
       "      <td>0.154</td>\n",
       "      <td>0.000</td>\n",
       "      <td>0.000</td>\n",
       "      <td>5141.0</td>\n",
       "      <td>3168.0</td>\n",
       "      <td>1.0</td>\n",
       "    </tr>\n",
       "    <tr>\n",
       "      <th>beta_post_j[Senate]</th>\n",
       "      <td>-3.845</td>\n",
       "      <td>0.050</td>\n",
       "      <td>-3.943</td>\n",
       "      <td>-3.754</td>\n",
       "      <td>0.001</td>\n",
       "      <td>0.001</td>\n",
       "      <td>3321.0</td>\n",
       "      <td>2913.0</td>\n",
       "      <td>1.0</td>\n",
       "    </tr>\n",
       "    <tr>\n",
       "      <th>beta_post_j[House]</th>\n",
       "      <td>0.203</td>\n",
       "      <td>0.050</td>\n",
       "      <td>0.105</td>\n",
       "      <td>0.293</td>\n",
       "      <td>0.001</td>\n",
       "      <td>0.001</td>\n",
       "      <td>5146.0</td>\n",
       "      <td>3178.0</td>\n",
       "      <td>1.0</td>\n",
       "    </tr>\n",
       "    <tr>\n",
       "      <th>lam</th>\n",
       "      <td>0.881</td>\n",
       "      <td>0.001</td>\n",
       "      <td>0.879</td>\n",
       "      <td>0.883</td>\n",
       "      <td>0.000</td>\n",
       "      <td>0.000</td>\n",
       "      <td>2635.0</td>\n",
       "      <td>2569.0</td>\n",
       "      <td>1.0</td>\n",
       "    </tr>\n",
       "    <tr>\n",
       "      <th>s</th>\n",
       "      <td>99.570</td>\n",
       "      <td>5.965</td>\n",
       "      <td>88.423</td>\n",
       "      <td>110.807</td>\n",
       "      <td>0.072</td>\n",
       "      <td>0.098</td>\n",
       "      <td>6901.0</td>\n",
       "      <td>3248.0</td>\n",
       "      <td>1.0</td>\n",
       "    </tr>\n",
       "    <tr>\n",
       "      <th>sigma_t</th>\n",
       "      <td>1.019</td>\n",
       "      <td>0.979</td>\n",
       "      <td>0.001</td>\n",
       "      <td>2.816</td>\n",
       "      <td>0.013</td>\n",
       "      <td>0.023</td>\n",
       "      <td>4191.0</td>\n",
       "      <td>1950.0</td>\n",
       "      <td>1.0</td>\n",
       "    </tr>\n",
       "  </tbody>\n",
       "</table>\n",
       "</div>"
      ],
      "text/plain": [
       "                       mean     sd  hdi_3%  hdi_97%  mcse_mean  mcse_sd  \\\n",
       "tau                  -0.002  0.002  -0.005    0.001      0.000    0.000   \n",
       "delta_j              -1.016  0.011  -1.036   -0.996      0.000    0.000   \n",
       "beta_pre_j[Senate]    1.100  0.013   1.076    1.123      0.000    0.000   \n",
       "beta_pre_j[House]     0.132  0.011   0.111    0.154      0.000    0.000   \n",
       "beta_post_j[Senate]  -3.845  0.050  -3.943   -3.754      0.001    0.001   \n",
       "beta_post_j[House]    0.203  0.050   0.105    0.293      0.001    0.001   \n",
       "lam                   0.881  0.001   0.879    0.883      0.000    0.000   \n",
       "s                    99.570  5.965  88.423  110.807      0.072    0.098   \n",
       "sigma_t               1.019  0.979   0.001    2.816      0.013    0.023   \n",
       "\n",
       "                     ess_bulk  ess_tail  r_hat  \n",
       "tau                    7196.0    2570.0    1.0  \n",
       "delta_j                3288.0    3062.0    1.0  \n",
       "beta_pre_j[Senate]     2906.0    3220.0    1.0  \n",
       "beta_pre_j[House]      5141.0    3168.0    1.0  \n",
       "beta_post_j[Senate]    3321.0    2913.0    1.0  \n",
       "beta_post_j[House]     5146.0    3178.0    1.0  \n",
       "lam                    2635.0    2569.0    1.0  \n",
       "s                      6901.0    3248.0    1.0  \n",
       "sigma_t                4191.0    1950.0    1.0  "
      ]
     },
     "execution_count": 36,
     "metadata": {},
     "output_type": "execute_result"
    }
   ],
   "source": [
    "az.summary(gen_poi_1994_trace, var_names=[\"~alpha_k\", \"~gamma_k\"])"
   ]
  },
  {
   "cell_type": "code",
   "execution_count": 37,
   "id": "ad52b1ae-2fce-437b-a2fa-63df5c2fb177",
   "metadata": {},
   "outputs": [
    {
     "data": {
      "text/html": [
       "<div>\n",
       "<style scoped>\n",
       "    .dataframe tbody tr th:only-of-type {\n",
       "        vertical-align: middle;\n",
       "    }\n",
       "\n",
       "    .dataframe tbody tr th {\n",
       "        vertical-align: top;\n",
       "    }\n",
       "\n",
       "    .dataframe thead th {\n",
       "        text-align: right;\n",
       "    }\n",
       "</style>\n",
       "<table border=\"1\" class=\"dataframe\">\n",
       "  <thead>\n",
       "    <tr style=\"text-align: right;\">\n",
       "      <th></th>\n",
       "      <th>mean</th>\n",
       "      <th>sd</th>\n",
       "      <th>hdi_3%</th>\n",
       "      <th>hdi_97%</th>\n",
       "      <th>mcse_mean</th>\n",
       "      <th>mcse_sd</th>\n",
       "      <th>ess_bulk</th>\n",
       "      <th>ess_tail</th>\n",
       "      <th>r_hat</th>\n",
       "    </tr>\n",
       "  </thead>\n",
       "  <tbody>\n",
       "    <tr>\n",
       "      <th>tau</th>\n",
       "      <td>0.001</td>\n",
       "      <td>0.002</td>\n",
       "      <td>-0.003</td>\n",
       "      <td>0.006</td>\n",
       "      <td>0.000</td>\n",
       "      <td>0.000</td>\n",
       "      <td>11089.0</td>\n",
       "      <td>3221.0</td>\n",
       "      <td>1.0</td>\n",
       "    </tr>\n",
       "    <tr>\n",
       "      <th>s</th>\n",
       "      <td>87.395</td>\n",
       "      <td>5.571</td>\n",
       "      <td>77.402</td>\n",
       "      <td>98.026</td>\n",
       "      <td>0.055</td>\n",
       "      <td>0.104</td>\n",
       "      <td>10784.0</td>\n",
       "      <td>2944.0</td>\n",
       "      <td>1.0</td>\n",
       "    </tr>\n",
       "  </tbody>\n",
       "</table>\n",
       "</div>"
      ],
      "text/plain": [
       "       mean     sd  hdi_3%  hdi_97%  mcse_mean  mcse_sd  ess_bulk  ess_tail  \\\n",
       "tau   0.001  0.002  -0.003    0.006      0.000    0.000   11089.0    3221.0   \n",
       "s    87.395  5.571  77.402   98.026      0.055    0.104   10784.0    2944.0   \n",
       "\n",
       "     r_hat  \n",
       "tau    1.0  \n",
       "s      1.0  "
      ]
     },
     "execution_count": 37,
     "metadata": {},
     "output_type": "execute_result"
    }
   ],
   "source": [
    "az.summary(genpoi, var_names=[\"tau\", \"s\"])"
   ]
  },
  {
   "cell_type": "code",
   "execution_count": 38,
   "id": "2aed4346-5fe7-42ea-a693-857f8bb35501",
   "metadata": {},
   "outputs": [
    {
     "data": {
      "text/html": [
       "<div>\n",
       "<style scoped>\n",
       "    .dataframe tbody tr th:only-of-type {\n",
       "        vertical-align: middle;\n",
       "    }\n",
       "\n",
       "    .dataframe tbody tr th {\n",
       "        vertical-align: top;\n",
       "    }\n",
       "\n",
       "    .dataframe thead th {\n",
       "        text-align: right;\n",
       "    }\n",
       "</style>\n",
       "<table border=\"1\" class=\"dataframe\">\n",
       "  <thead>\n",
       "    <tr style=\"text-align: right;\">\n",
       "      <th></th>\n",
       "      <th>mean</th>\n",
       "      <th>sd</th>\n",
       "      <th>hdi_3%</th>\n",
       "      <th>hdi_97%</th>\n",
       "      <th>mcse_mean</th>\n",
       "      <th>mcse_sd</th>\n",
       "      <th>ess_bulk</th>\n",
       "      <th>ess_tail</th>\n",
       "      <th>r_hat</th>\n",
       "    </tr>\n",
       "  </thead>\n",
       "  <tbody>\n",
       "    <tr>\n",
       "      <th>tau</th>\n",
       "      <td>-0.002</td>\n",
       "      <td>0.002</td>\n",
       "      <td>-0.005</td>\n",
       "      <td>0.001</td>\n",
       "      <td>0.000</td>\n",
       "      <td>0.000</td>\n",
       "      <td>7196.0</td>\n",
       "      <td>2570.0</td>\n",
       "      <td>1.0</td>\n",
       "    </tr>\n",
       "    <tr>\n",
       "      <th>s</th>\n",
       "      <td>99.570</td>\n",
       "      <td>5.965</td>\n",
       "      <td>88.423</td>\n",
       "      <td>110.807</td>\n",
       "      <td>0.072</td>\n",
       "      <td>0.098</td>\n",
       "      <td>6901.0</td>\n",
       "      <td>3248.0</td>\n",
       "      <td>1.0</td>\n",
       "    </tr>\n",
       "  </tbody>\n",
       "</table>\n",
       "</div>"
      ],
      "text/plain": [
       "       mean     sd  hdi_3%  hdi_97%  mcse_mean  mcse_sd  ess_bulk  ess_tail  \\\n",
       "tau  -0.002  0.002  -0.005    0.001      0.000    0.000    7196.0    2570.0   \n",
       "s    99.570  5.965  88.423  110.807      0.072    0.098    6901.0    3248.0   \n",
       "\n",
       "     r_hat  \n",
       "tau    1.0  \n",
       "s      1.0  "
      ]
     },
     "execution_count": 38,
     "metadata": {},
     "output_type": "execute_result"
    }
   ],
   "source": [
    "az.summary(gen_poi_1994_trace, var_names=[\"tau\", \"s\"])"
   ]
  },
  {
   "cell_type": "code",
   "execution_count": 40,
   "id": "f0792647-f083-44de-b69d-01db66f48a42",
   "metadata": {},
   "outputs": [
    {
     "data": {
      "image/png": "[encoded data removed]",
      "text/plain": [
       "<Figure size 800x600 with 1 Axes>"
      ]
     },
     "metadata": {},
     "output_type": "display_data"
    }
   ],
   "source": [
    "plt.figure(figsize=(8, 6))\n",
    "years = np.linspace(1988, 1997, 500)\n",
    "\n",
    "\n",
    "T_t1 = (years - 1990.75)/10\n",
    "G1 = 1 / (1 + np.exp(-87 * (T_t1 - 0.001))) \n",
    "\n",
    "# New transition (1994.75 center)\n",
    "T_t2 = (years - 1994.75)/10\n",
    "G2 = 1 / (1 + np.exp(-100 * (T_t2 - (-0.002)))) \n",
    "\n",
    "plt.plot(years, G1, label=\"1990.75 Center\", lw=2)\n",
    "plt.plot(years, G2, label=\"1994.75 Center\", lw=2, ls='--')\n",
    "plt.axvline(1990.75, color='C0', ls=':', alpha=0.5)\n",
    "plt.axvline(1994.75, color='C1', ls=':', alpha=0.5)\n",
    "plt.title(\"Transition Function Comparison (1988–1997)\")\n",
    "plt.xlabel(\"Year\"); ax1.set_ylabel(\"Transition Weight\")\n",
    "plt.legend()\n",
    "plt.grid(alpha=0.2)\n",
    "\n",
    "plt.tight_layout()\n",
    "plt.show()"
   ]
  }
 ],
 "metadata": {
  "kernelspec": {
   "display_name": "Python 3 (ipykernel)",
   "language": "python",
   "name": "python3"
  },
  "language_info": {
   "codemirror_mode": {
    "name": "ipython",
    "version": 3
   },
   "file_extension": ".py",
   "mimetype": "text/x-python",
   "name": "python",
   "nbconvert_exporter": "python",
   "pygments_lexer": "ipython3",
   "version": "3.13.2"
  }
 },
 "nbformat": 4,
 "nbformat_minor": 5
}
